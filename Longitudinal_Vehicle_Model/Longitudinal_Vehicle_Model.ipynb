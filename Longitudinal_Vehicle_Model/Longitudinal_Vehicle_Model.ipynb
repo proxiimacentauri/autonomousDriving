{
 "cells": [
  {
   "cell_type": "markdown",
   "metadata": {},
   "source": [
    "## Forward Longitudinal Vehicle Model\n",
    "----\n",
    "\n",
    "The model accepts throttle inputs and steps through the longitudinal dynamic equations. Once implemented, you will be given a set of inputs that drives over a small road slope to test your model.\n",
    "\n",
    "### Input to Model\n",
    "\n",
    "Is a throttle percentage $x_\\theta \\in [0,1]$ which provides torque to the engine and subsequently accelerates the vehicle for forward motion. \n",
    "\n",
    "### Dynamic Equations\n",
    "\n",
    "Consist of many stages to convert throttle inputs to wheel speed: \n",
    "\n",
    "\\begin{align}\n",
    "(Engine  -> Torque Converter  -> Transmission  -> Wheel)\n",
    "\\end{align}\n",
    "\n",
    "#### 1. Engine Dynamic Equation\n",
    "These stages are bundled together in a single inertia term $J_e$ which is used in the following combined engine dynamic equations.\n",
    "\n",
    "\\begin{align}\n",
    "    J_e \\dot{\\omega}_e &= T_e - (GR)(r_{eff} F_{load}) \\\\ m\\ddot{x} &= F_x - F_{load}\n",
    "\\end{align}\n",
    "\n",
    "#### 2. Engine Torque\n",
    "It is computed from the throttle input and the engine angular velocity $\\omega_e$ using a simplified quadratic model. \n",
    "\n",
    "\\begin{align}\n",
    "    T_e = x_{\\theta}(a_0 + a_1 \\omega_e + a_2 \\omega_e^2)\n",
    "\\end{align}\n",
    "\n",
    "\n",
    "Where,\n",
    "\n",
    "$T_e$ - Engine Torque\n",
    "\n",
    "$GR$ - Gear Ratio\n",
    "\n",
    "$r_{eff}$  - Effective Radius\n",
    "\n",
    "$m$ - Vehicle Mass\n",
    "\n",
    "$x$  - Vehicle Position\n",
    "\n",
    "$F_x$ - Tire Force\n",
    "\n",
    "$F_{load}$ - Total Load Force \n",
    "\n",
    "#### 3. Load Forces\n",
    "\n",
    " The load force models can be defined as:\n",
    "\n",
    "\\begin{align}\n",
    "    F_{load} &= F_{aero} + R_x + F_g \\\\\n",
    "    F_{aero} &= \\frac{1}{2} C_a \\rho A \\dot{x}^2 = c_a \\dot{x}^2\\\\\n",
    "    R_x &= N(\\hat{c}_{r,0} + \\hat{c}_{r,1}|\\dot{x}| + \\hat{c}_{r,2}\\dot{x}^2) \\approx c_{r,1} \\dot{x}\\\\\n",
    "    F_g &= mg\\sin{\\alpha}\n",
    "\\end{align}\n",
    "\n",
    "\n",
    "The load forces consist of:\n",
    "\n",
    "$F_{aero}$ - Aerodynamic Drag\n",
    "\n",
    "$R_x$ - Rolling Friction \n",
    "\n",
    "$F_g$ - Gravitational Force from an incline at angle $\\alpha$\n",
    "\n",
    "\n",
    "**Note**: \n",
    "1. Absolute value is ignored for friction since the model is used for **only forward motion** ($\\dot{x} \\ge 0$). \n",
    "2. Aerodynamic drag is a quadratic model.\n",
    "3. Friction is a linear model.\n",
    " \n",
    "#### 4. Tire Force\n",
    "\n",
    "Computed using the engine speed and wheel slip equations.\n",
    "\n",
    "\\begin{align}\n",
    "    \\omega_w &= (GR)\\omega_e \\\\\n",
    "    s &= \\frac{\\omega_w r_e - \\dot{x}}{\\dot{x}}\\\\\n",
    "    F_x &= \\left\\{\\begin{array}{lr}\n",
    "        cs, &  |s| < 1\\\\\n",
    "        F_{max}, & \\text{otherwise}\n",
    "        \\end{array}\\right\\} \n",
    "\\end{align}\n",
    "\n",
    "Where,\n",
    "\n",
    "$\\omega_w$ - Wheel Angular Velocity\n",
    "\n",
    "$s$ - Slip Ratio\n",
    "\n",
    "\n",
    "### Initial Conditions\n",
    "Longitudinal model is set up inside a Python class below. \n",
    "\n",
    "1. Initial Velocity = 5 m/s \n",
    "2. Engine Speed = 100 rad/s\n",
    "3. Sampling Time = 10ms is used for numerical integration."
   ]
  },
  {
   "cell_type": "code",
   "execution_count": 1,
   "metadata": {},
   "outputs": [],
   "source": [
    "import sys\n",
    "import numpy as np\n",
    "import matplotlib.pyplot as plt\n",
    "import matplotlib.image as mpimg\n",
    "\n",
    "class Vehicle():\n",
    "    def __init__(self):\n",
    " \n",
    "        # ==================================\n",
    "        #  Parameters\n",
    "        # ==================================\n",
    "    \n",
    "        #Throttle to engine torque\n",
    "        self.a_0 = 400\n",
    "        self.a_1 = 0.1\n",
    "        self.a_2 = -0.0002\n",
    "        \n",
    "        # Gear ratio, effective radius, mass + inertia\n",
    "        self.GR = 0.35\n",
    "        self.r_e = 0.3\n",
    "        self.J_e = 10\n",
    "        self.m = 2000\n",
    "        self.g = 9.81\n",
    "        \n",
    "        # Aerodynamic and friction coefficients\n",
    "        self.c_a = 1.36\n",
    "        self.c_r1 = 0.01\n",
    "        \n",
    "        # Tire force \n",
    "        self.c = 10000\n",
    "        self.F_max = 10000\n",
    "        \n",
    "        # State variables\n",
    "        self.x = 0\n",
    "        self.x_dot = 5\n",
    "        self.a = 0\n",
    "        self.w_e = 100\n",
    "        self.w_e_dot = 0\n",
    "        \n",
    "        self.sample_time = 0.01\n",
    "        \n",
    "    def reset(self):\n",
    "        # reset state variables\n",
    "        self.x = 0\n",
    "        self.x_dot = 5\n",
    "        self.a = 0\n",
    "        self.w_e = 100\n",
    "        self.w_e_dot = 0"
   ]
  },
  {
   "cell_type": "markdown",
   "metadata": {},
   "source": [
    "Implementing the combined engine dynamic equations along with the force equations. \n",
    "\n",
    "The function $\\textit{ODE}$ takes input:\n",
    "1. Throttle ($x_\\theta$)\n",
    "2. Incline Angle ($\\alpha$)\n",
    "\n",
    "Performs numerical integration over one timestep to update the state variables.\n",
    "\n",
    "**Hint:** Integrate to find the current position, velocity, and engine speed first, then propagate those values into the set of equations."
   ]
  },
  {
   "cell_type": "code",
   "execution_count": 54,
   "metadata": {},
   "outputs": [],
   "source": [
    "class Vehicle(Vehicle):\n",
    "    def ODE(self, throttle, alpha):\n",
    "        # ==================================\n",
    "        #  Vehicle model here\n",
    "        # ==================================\n",
    "        # For implementing the Differential Equations\n",
    "        \n",
    "         \n",
    "        Te = throttle * (self.a_0 + (self.a_1*self.w_e) + (self.a_2 * (self.w_e*self.w_e)))\n",
    "        \n",
    "        F_aero = (self.c_a * (self.x_dot*self.x_dot))\n",
    "        R_x = (self.c_r1 * self.x_dot)\n",
    "        F_g = (self.m * self.g * np.sin(alpha))\n",
    "        FLoad = F_aero + R_x + F_g\n",
    "        \n",
    "        w_w = (self.GR * self.w_e)\n",
    "        s = (w_w * self.r_e - self.x_dot) / (self.x_dot)\n",
    "        if abs(s) < 1:\n",
    "            F_x = self.c * s\n",
    "        else:\n",
    "            F_x = self.F_max\n",
    "        \n",
    "        self.w_e_dot = (Te - (self.GR * self.r_e * FLoad)) / self.J_e\n",
    "        self.a = (F_x - FLoad) / self.m\n",
    "                                    \n",
    "                \n",
    "        # The equations need to be updated with sampling time\n",
    "        # Dist = velo*t + (0.5*accel*t^2)\n",
    "        self.x += (self.x_dot * self.sample_time) + (0.5* self.a * (self.sample_time*self.sample_time))\n",
    "        # Velocity = accel*time\n",
    "        self.x_dot += self.a * self.sample_time\n",
    "        self.w_e += self.w_e_dot * self.sample_time"
   ]
  },
  {
   "cell_type": "markdown",
   "metadata": {},
   "source": [
    "Using the model:\n",
    "1. You can send constant throttle inputs to the vehicle.\n",
    "2. Observe that the velocity converges to a fixed value based on the throttle input due to the aerodynamic drag and tire force limit.\n",
    "3. A similar velocity profile can be seen by setting incline angle **$\\alpha$ < 0**. In this case, gravity accelerates the vehicle to a terminal velocity where it is balanced by the drag force."
   ]
  },
  {
   "cell_type": "code",
   "execution_count": 55,
   "metadata": {},
   "outputs": [
    {
     "data": {
      "image/png": "[encoded data removed]",
      "text/plain": [
       "<Figure size 432x288 with 1 Axes>"
      ]
     },
     "metadata": {
      "needs_background": "light"
     },
     "output_type": "display_data"
    }
   ],
   "source": [
    "sample_time = 0.01\n",
    "time_end = 100\n",
    "model = Vehicle()\n",
    "\n",
    "t_data = np.arange(0,time_end,sample_time)\n",
    "v_data = np.zeros_like(t_data)\n",
    "\n",
    "# throttle percentage between 0 and 1\n",
    "throttle = 0.2\n",
    "\n",
    "# incline angle (in radians)\n",
    "alpha = 0\n",
    "\n",
    "for i in range(t_data.shape[0]):\n",
    "    v_data[i] = model.x_dot\n",
    "    model.ODE(throttle, alpha)\n",
    "\n",
    "plt.title('Velocity')\n",
    "plt.plot(t_data, v_data)\n",
    "plt.show()"
   ]
  },
  {
   "cell_type": "markdown",
   "metadata": {},
   "source": [
    "## Objective\n",
    "\n",
    "Drive the vehicle over a slope as shown in the diagram below.\n",
    "\n",
    "![ramp](ramp.png)\n",
    "\n",
    "## Throttle Input for Slope\n",
    "\n",
    "A trapezoidal throttle input is provided for the next **20 sec** as shown in the figure below. \n",
    "\n",
    "1. Vehicle begins at 20% throttle \n",
    "2. Gradually increases to 50% throttle\n",
    "\n",
    "This is maintained for 10 seconds as the vehicle climbs the steeper slope. Afterwards, the vehicle reduces the throttle to 0.\n",
    "\n",
    "![throttle](throttle.png)\n",
    "\n",
    "Implement the following and step them through the vehicle dynamics:\n",
    "\n",
    "1. Ramp Angle Profile $\\alpha (x)$ \n",
    "\n",
    "2. Throttle profile $x_\\theta (t)$ \n",
    "\n",
    "The vehicle position $x(t)$ is saved in the array $\\textit{x_data}$.\n"
   ]
  },
  {
   "cell_type": "code",
   "execution_count": 56,
   "metadata": {},
   "outputs": [
    {
     "data": {
      "image/png": "[encoded data removed]",
      "text/plain": [
       "<Figure size 432x288 with 1 Axes>"
      ]
     },
     "metadata": {
      "needs_background": "light"
     },
     "output_type": "display_data"
    }
   ],
   "source": [
    "time_end = 20\n",
    "t_data = np.arange(0,time_end,sample_time)\n",
    "x_data = np.zeros_like(t_data)\n",
    "\n",
    "# reset the states\n",
    "model.reset()\n",
    "\n",
    "# ==================================\n",
    "#  Learner solution begins here\n",
    "# ==================================\n",
    "# We need to calculate the angle alpha for heights 3 and 12 meters high \n",
    "# alpha = arctan(3/60) for a height of 3 m\n",
    "# alpha = arctan(12/60) for a height of 12 m\n",
    "# WE will need to create empty arrays for alpha and throttle of size  0 to total time steps\n",
    "\n",
    "alpha = np.zeros_like(t_data)\n",
    "throttle = np.zeros_like(t_data)\n",
    "\n",
    "# In order to give the set command throttle we need to fill the throttle and the alpha angle\n",
    "# arrays and then sent that signal to the model\n",
    "\n",
    "# Constructing Signal for Alpha\n",
    "\n",
    "for i in range (Total_Time_Steps):\n",
    "        if 0 <= t_data[i] <= 5:\n",
    "            alpha[i] = np.arctan(3/60)\n",
    "                        \n",
    "        elif 5 <= t_data[i] <= 15:\n",
    "            alpha[i] = np.arctan(9/90)\n",
    "            \n",
    "        else: alpha[i] = 0\n",
    "\n",
    "plt.title('Alpha')\n",
    "plt.plot(t_data, alpha)\n",
    "plt.show()"
   ]
  },
  {
   "cell_type": "code",
   "execution_count": 57,
   "metadata": {},
   "outputs": [
    {
     "data": {
      "image/png": "[encoded data removed]",
      "text/plain": [
       "<Figure size 432x288 with 1 Axes>"
      ]
     },
     "metadata": {
      "needs_background": "light"
     },
     "output_type": "display_data"
    }
   ],
   "source": [
    "# Constructing Throttle Signal\n",
    "# 20 sec we have 2000 steps, \n",
    "# 0-5sec: We are going from 20% to 50%\n",
    "# 5-15sec: We are at 50% constant\n",
    "# 15-20sec: We are decreasing from 50% to 0%\n",
    "# For throttle we use the equation of line (y2-y1)/(x2-x1)*time + offset\n",
    "\n",
    "Total_Time_Steps = t_data.shape[0]\n",
    "\n",
    "for i in range (Total_Time_Steps):\n",
    "        if 0 <= t_data[i] <= 5:\n",
    "            throttle[i] = 0.2+((0.5-0.2)/(5-0))*t_data[i]\n",
    "                        \n",
    "        elif 5 <= t_data[i] <= 15:\n",
    "            throttle[i] = 0.5\n",
    "            \n",
    "        elif 15 <= t_data[i] <= 20:\n",
    "            throttle[i] = 2 + ((0.5-0)/(15-20))*(t_data[i])\n",
    "            \n",
    "plt.title('Throttle')\n",
    "plt.plot(t_data, throttle)\n",
    "plt.show()       "
   ]
  },
  {
   "cell_type": "code",
   "execution_count": 59,
   "metadata": {},
   "outputs": [
    {
     "data": {
      "image/png": "[encoded data removed]",
      "text/plain": [
       "<Figure size 432x288 with 1 Axes>"
      ]
     },
     "metadata": {
      "needs_background": "light"
     },
     "output_type": "display_data"
    }
   ],
   "source": [
    "# Passing the Alpha and Throttle Inputs to the ODE \n",
    "    \n",
    "for i in range(Total_Time_Steps):\n",
    "    model.ODE(throttle[i], alpha[i])\n",
    "    x_data[i] = model.x\n",
    "    v_data[i] = model.x_dot\n",
    "    \n",
    "# ==================================\n",
    "#  Learner solution ends here\n",
    "# ==================================\n",
    "\n",
    "# Plot x vs t for visualization\n",
    "plt.title('Distance')\n",
    "plt.plot(t_data, x_data)\n",
    "plt.show()\n",
    "#plt.title('Velocity')\n",
    "#plt.plot(t_data, v_data)\n",
    "#plt.show()\n"
   ]
  },
  {
   "cell_type": "markdown",
   "metadata": {},
   "source": [
    "If you have implemented the vehicle model and inputs correctly, you should see that the vehicle crosses the ramp at ~15s where the throttle input begins to decrease.\n",
    "\n",
    "The cell below will save the time and vehicle inputs as text file named $\\textit{xdata.txt}$. To locate the file, change the end of your web directory to $\\textit{/notebooks/Course_1_Module_4/xdata.txt}$\n",
    "\n",
    "Once you are there, you can download the file and submit to the Coursera grader to complete this assessment."
   ]
  },
  {
   "cell_type": "code",
   "execution_count": 60,
   "metadata": {},
   "outputs": [],
   "source": [
    "data = np.vstack([t_data, x_data]).T\n",
    "np.savetxt('xdata.txt', data, delimiter=', ')"
   ]
  },
  {
   "cell_type": "code",
   "execution_count": null,
   "metadata": {},
   "outputs": [],
   "source": []
  }
 ],
 "metadata": {
  "kernelspec": {
   "display_name": "Python 3",
   "language": "python",
   "name": "python3"
  },
  "language_info": {
   "codemirror_mode": {
    "name": "ipython",
    "version": 3
   },
   "file_extension": ".py",
   "mimetype": "text/x-python",
   "name": "python",
   "nbconvert_exporter": "python",
   "pygments_lexer": "ipython3",
   "version": "3.7.6"
  }
 },
 "nbformat": 4,
 "nbformat_minor": 4
}
