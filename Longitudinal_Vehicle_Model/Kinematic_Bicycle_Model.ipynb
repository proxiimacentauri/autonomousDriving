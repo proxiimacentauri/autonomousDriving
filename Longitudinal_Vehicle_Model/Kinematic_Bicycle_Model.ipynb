{
 "cells": [
  {
   "cell_type": "markdown",
   "metadata": {},
   "source": [
    "## Kinematic Bicycle Model\n",
    "----\n",
    "### Input to Model\n",
    "\n",
    "The model accepts:\n",
    "\n",
    "1. Velocity \n",
    "2. Steering Rate \n",
    "\n",
    "Steps through the bicycle kinematic equations.\n",
    "\n",
    "\n",
    "### Objective\n",
    "\n",
    "Once the model is implemented, you will provide a set of inputs to drive the bicycle in a figure 8 trajectory.\n",
    "\n",
    "### Bicycle Kinematics\n",
    "\n",
    "The bicycle kinematics are governed by the following set of equations:\n",
    "\n",
    "\\begin{align*}\n",
    "\\dot{x}_c &= v \\cos{(\\theta + \\beta)} \\\\\n",
    "\\dot{y}_c &= v \\sin{(\\theta + \\beta)} \\\\\n",
    "\\dot{\\theta} &= \\frac{v \\cos{\\beta} \\tan{\\delta}}{L} \\\\\n",
    "\\dot{\\delta} &= \\omega \\\\\n",
    "\\beta &= \\tan^{-1}(\\frac{l_r \\tan{\\delta}}{L})\n",
    "\\end{align*}\n",
    "\n",
    "Where the inputs are,\n",
    "\n",
    "$v$ - Bicycle Speed\n",
    "\n",
    "$\\omega$ - Steering Angle Rate\n",
    "\n",
    "The input can also directly be the steering angle $\\delta$ rather than its rate in the simplified case. The Python model will allow us both implementations.\n",
    "\n",
    "In order to create this model, it's a good idea to make use of Python class objects. This allows us to store the state variables as well as make functions for implementing the bicycle kinematics. \n",
    "\n",
    "### Initial Conditions\n",
    "\n",
    "The bicycle begins with zero initial conditions:\n",
    " 1. Maximum turning rate of **1.22 rad/s**.\n",
    " 2. Wheelbase Length of **2m**.\n",
    " 3. Length of **1.2m** to its center of mass from the rear axle.\n",
    " 4. Sample time = **10ms** (for numerical integration).\n",
    " 5. Reset function which sets all the state variables back to 0. \n",
    "\n",
    "\n",
    "From these conditions, we initialize the Python class as follows:"
   ]
  },
  {
   "cell_type": "code",
   "execution_count": 1,
   "metadata": {},
   "outputs": [],
   "source": [
    "import numpy as np\n",
    "import matplotlib.pyplot as plt\n",
    "import matplotlib.image as mpimg\n",
    "\n",
    "class Bicycle():\n",
    "    def __init__(self):\n",
    "        self.xc = 0\n",
    "        self.yc = 0\n",
    "        self.theta = 0\n",
    "        self.delta = 0\n",
    "        self.beta = 0\n",
    "        \n",
    "        self.L = 2\n",
    "        self.lr = 1.2\n",
    "        self.w_max = 1.22\n",
    "        \n",
    "        self.sample_time = 0.01\n",
    "        \n",
    "    def reset(self):\n",
    "        self.xc = 0\n",
    "        self.yc = 0\n",
    "        self.theta = 0\n",
    "        self.delta = 0\n",
    "        self.beta = 0"
   ]
  },
  {
   "cell_type": "code",
   "execution_count": 2,
   "metadata": {},
   "outputs": [],
   "source": [
    "class Bicycle(Bicycle):\n",
    "    # Our ODEs have input of bicycle speed and angular speed\n",
    "    def ODE(self, v, w):\n",
    "        # ==================================\n",
    "        #  Kinematic Model\n",
    "        # ==================================\n",
    "        \n",
    "        # For implementing the Differential Equations\n",
    "        xc_dot = v * np.cos(self.theta + self.beta)\n",
    "        yc_dot = v * np.sin (self.theta + self.beta)\n",
    "        theta_dot = (v*np.cos(self.beta) * np.tan(self.delta))/(self.L)\n",
    "        delta_dot = w\n",
    "        self.beta = np.arctan((self.lr*np.tan(self.delta))/(self.L))\n",
    "        \n",
    "        # The equations need to be updated with sampling time\n",
    "        self.xc += xc_dot * self.sample_time\n",
    "        self.yc += yc_dot * self.sample_time\n",
    "        self.theta += theta_dot * self.sample_time\n",
    "        self.delta += delta_dot * self.sample_time\n"
   ]
  },
  {
   "cell_type": "markdown",
   "metadata": {},
   "source": [
    "### Trajectory Planning\n",
    "\n",
    "### Circle\n",
    "\n",
    "##### 1. Steering Angle (**delta**)\n",
    "We want to travel a circle of radius 10 m in 20 seconds. The desired steering angle can be computed.\n",
    "\n",
    "\\begin{align*}\n",
    "    \\tan{\\delta} &= \\frac{L}{r} \\\\\n",
    "    \\delta &= \\tan^{-1}(\\frac{L}{r}) \\\\\n",
    "           &= \\tan^{-1}(\\frac{2}{10}) \\\\\n",
    "           &= 0.1974\n",
    "\\end{align*}\n",
    "\n",
    "**NOTE:** If the steering angle is directly set to 0.1974 using a simplied bicycled model, then the bicycle will travel in a circle without requiring any additional steering input. \n",
    "\n",
    "##### 2. Linear Speed (**v**)\n",
    "\n",
    "The desired **speed** can be computed from the circumference of the circle:\n",
    "\n",
    "\\begin{align*}\n",
    "    v &= \\frac{d}{t}\\\\\n",
    "     &= \\frac{2 \\pi 10}{20}\\\\\n",
    "     &= \\pi\n",
    "\\end{align*}\n",
    "\n",
    "We can now implement this in a loop to step through the model equations."
   ]
  },
  {
   "cell_type": "code",
   "execution_count": 3,
   "metadata": {},
   "outputs": [
    {
     "data": {
      "image/png": "[encoded data removed]",
      "text/plain": [
       "<Figure size 432x288 with 1 Axes>"
      ]
     },
     "metadata": {
      "needs_background": "light"
     },
     "output_type": "display_data"
    }
   ],
   "source": [
    "sample_time = 0.01\n",
    "time_end = 20\n",
    "model = Bicycle()\n",
    "t_data = np.arange(0,time_end,sample_time)\n",
    "x_data = np.zeros_like(t_data)\n",
    "y_data = np.zeros_like(t_data)\n",
    "\n",
    "# We are setting Delta directly for a simplified bicycle model \n",
    "# by doing this it will travel in a circle without requiring additional steering inputs\n",
    "# Here Lenght of Bicycle = 2 \n",
    "# and Radius of the circle to be covevered is = 10\n",
    "model.delta = np.arctan(2/10)\n",
    "\n",
    "for i in range(t_data.shape[0]):\n",
    "    x_data[i] = model.xc\n",
    "    y_data[i] = model.yc\n",
    "    # Here we are sending a constant input of\n",
    "    # v = 3.14 m/s\n",
    "    # w = 0 rad/sec\n",
    "    model.ODE(np.pi, 0)\n",
    "    #model.beta = 0\n",
    "\n",
    "plt.axis('equal')\n",
    "plt.plot(x_data, y_data,label='Learner Model')\n",
    "plt.legend()\n",
    "plt.show()"
   ]
  },
  {
   "cell_type": "markdown",
   "metadata": {},
   "source": [
    "**OBSERVATIONS**\n",
    "1. The plot above shows the desired circle of 10m radius.\n",
    "2. **The path is slightly offset which is caused by the sideslip effects due to** $\\beta$. \n",
    "3. By forcing $\\beta = 0$ through uncommenting the last line in the loop the offset disappears and the **circle becomes centered at (0,10).**\n",
    "\n",
    "However, in practice the **steering angle ($\\beta$) cannot be directly set and must be changed through angular rate inputs $\\omega$.** \n",
    "\n",
    "\n",
    "Below corrects for this and sets angular rate inputs to generate the same circle trajectory. The speed $v$ is still maintained at $\\pi$ m/s."
   ]
  },
  {
   "cell_type": "code",
   "execution_count": 4,
   "metadata": {},
   "outputs": [
    {
     "data": {
      "image/png": "[encoded data removed]",
      "text/plain": [
       "<Figure size 432x288 with 1 Axes>"
      ]
     },
     "metadata": {
      "needs_background": "light"
     },
     "output_type": "display_data"
    }
   ],
   "source": [
    "sample_time = 0.01\n",
    "time_end = 20\n",
    "model.reset()\n",
    "\n",
    "t_data = np.arange(0,time_end,sample_time)\n",
    "x_data = np.zeros_like(t_data)\n",
    "y_data = np.zeros_like(t_data)\n",
    "\n",
    "for i in range(t_data.shape[0]):\n",
    "    x_data[i] = model.xc\n",
    "    y_data[i] = model.yc\n",
    "    \n",
    "    # When delta < 0.1974\n",
    "    # v = 3.14 m/s\n",
    "    # w = 1.22 rad/sec\n",
    "    # When delta NOT < 0.1974 \n",
    "    # v = 3.14 m/s\n",
    "    # w = 0 rad/sec\n",
    "    if model.delta < np.arctan(2/10):\n",
    "        model.ODE(np.pi, model.w_max)\n",
    "    else:\n",
    "        model.ODE(np.pi, 0)\n",
    "        \n",
    "plt.axis('equal')\n",
    "plt.plot(x_data, y_data,label='Learner Model')\n",
    "plt.legend()\n",
    "plt.show()"
   ]
  },
  {
   "cell_type": "markdown",
   "metadata": {},
   "source": [
    "Other Trajectories\n",
    "1. Square Path\n",
    "2. Spiral Path\n",
    "3. Wave Path\n",
    "\n",
    "(Uncomment each section to view)"
   ]
  },
  {
   "cell_type": "code",
   "execution_count": 5,
   "metadata": {},
   "outputs": [
    {
     "data": {
      "image/png": "[encoded data removed]",
      "text/plain": [
       "<Figure size 432x288 with 1 Axes>"
      ]
     },
     "metadata": {
      "needs_background": "light"
     },
     "output_type": "display_data"
    }
   ],
   "source": [
    "sample_time = 0.01\n",
    "time_end = 60\n",
    "model.reset()\n",
    "\n",
    "t_data = np.arange(0,time_end,sample_time)\n",
    "x_data = np.zeros_like(t_data)\n",
    "y_data = np.zeros_like(t_data)\n",
    "\n",
    "\n",
    "# Previously we calculated that for L (bicycle) = 2m and covering circle r = 10m in t = 20 sec\n",
    "# delta = 0.197 with v = 3.14 m/s\n",
    "# Now for a different shape we want:\n",
    "# v = 4 m/s and t = 60sec\n",
    "# As t_sample = 0.01 and we are stepping iteratively we are creating an array with a size = sampling size\n",
    "# and filling v = 4m/s for every sampling time and w = 0\n",
    "\n",
    "\n",
    "# maintain velocity at 4 m/s\n",
    "v_data = np.zeros_like(t_data)\n",
    "v_data[:] = 4 \n",
    "w_data = np.zeros_like(t_data)\n",
    "\n",
    "\n",
    "# ==================================\n",
    "#  Square Path: set w at corners only\n",
    "# ==================================\n",
    "\n",
    "# Here we know that to form a square on at the corners we have to turn \n",
    "# meaning the linear velocity will still be v = 4\n",
    "# but now as we approach a corner (4 corners) 6000/4 = 1500\n",
    "# we start at the middle of the side of a square there fore in 600 steps is the first turn\n",
    "# we keep turning for 100 steps and then correct our turn for 100 steps\n",
    "# That is Turn from 600 to 700 and straight 700\n",
    "# second corner is at 2100 then 3600 then 5100\n",
    "\n",
    "w_data[600:600+100] = 0.753\n",
    "w_data[600+100:600+100*2] = -0.753\n",
    "w_data[2100:2100+100] = 0.753\n",
    "w_data[2100+100:2100+100*2] = -0.753\n",
    "w_data[3600:3600+100] = 0.753\n",
    "w_data[3600+100:3600+100*2] = -0.753\n",
    "w_data[5100:5100+100] = 0.753\n",
    "w_data[5100+100:5100+100*2] = -0.753\n",
    "\n",
    "# ==================================\n",
    "#  Spiral Path: high positive w, then small negative w\n",
    "# ==================================\n",
    "#w_data[:] = -1/100\n",
    "#w_data[0:100] = 1\n",
    "\n",
    "# ==================================\n",
    "#  Wave Path: square wave w input\n",
    "# ==================================\n",
    "#w_data[:] = 0\n",
    "#w_data[0:100] = 1\n",
    "#w_data[100:300] = -1\n",
    "#w_data[300:500] = 1\n",
    "#w_data[500:5700] = np.tile(w_data[100:500], 13)\n",
    "#w_data[5700:] = -1\n",
    "\n",
    "# ==================================\n",
    "#  Step through bicycle model\n",
    "# ==================================\n",
    "for i in range(t_data.shape[0]):\n",
    "    x_data[i] = model.xc\n",
    "    y_data[i] = model.yc\n",
    "    \n",
    "    # Here we are supplying our ODEs with the inputs linear speed and angular speed\n",
    "    model.ODE(v_data[i], w_data[i])\n",
    "\n",
    "        \n",
    "plt.axis('equal')\n",
    "plt.plot(x_data, y_data,label='Learner Model')\n",
    "plt.legend()\n",
    "plt.show()"
   ]
  },
  {
   "cell_type": "markdown",
   "metadata": {},
   "source": [
    "We would now like the bicycle to travel a figure eight trajectory. Both circles in the figure eight have a radius of 8m and the path should complete in 30 seconds. The path begins at the bottom of the left circle and is shown in the figure below:\n",
    "\n",
    "![title](figure8.png)\n",
    "\n",
    "Determine the speed and steering rate inputs required to produce such trajectory and implement in the cell below. Make sure to also save your inputs into the arrays v_data and w_data, these will be used to grade your solution. The cell below also plots the trajectory generated by your own model."
   ]
  },
  {
   "cell_type": "code",
   "execution_count": 74,
   "metadata": {},
   "outputs": [
    {
     "data": {
      "image/png": "[encoded data removed]",
      "text/plain": [
       "<Figure size 432x288 with 1 Axes>"
      ]
     },
     "metadata": {
      "needs_background": "light"
     },
     "output_type": "display_data"
    }
   ],
   "source": [
    "sample_time = 0.01\n",
    "time_end = 30\n",
    "model.reset()\n",
    "\n",
    "t_data = np.arange(0,time_end,sample_time)\n",
    "x_data = np.zeros_like(t_data)\n",
    "y_data = np.zeros_like(t_data)\n",
    "v_data = np.zeros_like(t_data)\n",
    "w_data = np.zeros_like(t_data)\n",
    "\n",
    "\n",
    "# ==================================\n",
    "#  Learner solution begins here\n",
    "# ==================================\n",
    "rad = 8\n",
    "delta = np.arctan(2/8)\n",
    "v_data[:] =2*(2*np.pi*rad)/time_end\n",
    "w_data[:] = 0\n",
    "\n",
    "for i in range(t_data.shape[0]):\n",
    "    \n",
    "    x_data[i] = model.xc\n",
    "    y_data[i] = model.yc\n",
    "    \n",
    "    # Here we are supplying our ODEs with the inputs linear speed and angular speed\n",
    "    # We will divide the 3000 steps we have into 8 sections = 375 per section\n",
    "    # In figure we start at the bottom of the circle, we need to complete 1/4\n",
    "    # of circle in 375 steps\n",
    "    # if modeldelta < delta required to prescribe a circle \n",
    "    # we force model delta to be max possible\n",
    "    # Ex. we are riding a bicycle and trying to make a circle and we are at a point going tangential to circle\n",
    "    # What will we do ? we will turn the handle in the dir of circle\n",
    "    if i < 375-10:\n",
    "        if model.delta < delta:\n",
    "            model.ODE(v_data[i], model.w_max)            \n",
    "        # if the modeldlta is going as per req the angular velocity is zero\n",
    "        else:\n",
    "            model.ODE(v_data[i], 0)\n",
    "            \n",
    "    # After completing 1/4 of circle we need to turn and make 1 whole circle \n",
    "    # That is from 375 to 375*5 \n",
    "    # in this time frame we need to make 1 whole circle but in opposite direction\n",
    "    # if model.delta > -delta (needed for opposite circle)\n",
    "    # we change the direction of angular velocity \n",
    "    elif 375-10 <= i <= 375*5-60:\n",
    "        if model.delta > -delta:\n",
    "            model.ODE(v_data[i], -model.w_max)            \n",
    "        else:\n",
    "            model.ODE(v_data[i], 0)\n",
    "                \n",
    "    elif 375*5-60 <= i <= 375*8:\n",
    "        if model.delta < delta:\n",
    "            model.ODE(v_data[i], model.w_max)            \n",
    "        else:\n",
    "            model.ODE(v_data[i], 0)\n",
    "    \n",
    "# ==================================\n",
    "#  Learner solution ends here\n",
    "# ==================================\n",
    "plt.axis('equal')\n",
    "plt.plot(x_data, y_data)\n",
    "plt.show()\n"
   ]
  },
  {
   "cell_type": "markdown",
   "metadata": {},
   "source": [
    "We will now run your speed and angular rate inputs through our bicycle model solution. This is to ensure that your trajectory is correct along with your model. The cell below will display the path generated by our model along with some waypoints on a desired figure 8. Surrounding these waypoints are error tolerance circles with radius 1.5m, your solution will pass the grader if the trajectory generated stays within 80% of these circles."
   ]
  },
  {
   "cell_type": "code",
   "execution_count": 5,
   "metadata": {},
   "outputs": [
    {
     "ename": "NameError",
     "evalue": "name 'grade_bicycle' is not defined",
     "output_type": "error",
     "traceback": [
      "\u001b[1;31m---------------------------------------------------------------------------\u001b[0m",
      "\u001b[1;31mNameError\u001b[0m                                 Traceback (most recent call last)",
      "\u001b[1;32m<ipython-input-5-8006e2314415>\u001b[0m in \u001b[0;36m<module>\u001b[1;34m\u001b[0m\n\u001b[1;32m----> 1\u001b[1;33m \u001b[0mgrade_bicycle\u001b[0m\u001b[1;33m(\u001b[0m\u001b[0mt_data\u001b[0m\u001b[1;33m,\u001b[0m\u001b[0mv_data\u001b[0m\u001b[1;33m,\u001b[0m\u001b[0mw_data\u001b[0m\u001b[1;33m)\u001b[0m\u001b[1;33m\u001b[0m\u001b[1;33m\u001b[0m\u001b[0m\n\u001b[0m",
      "\u001b[1;31mNameError\u001b[0m: name 'grade_bicycle' is not defined"
     ]
    }
   ],
   "source": [
    "grade_bicycle(t_data,v_data,w_data)"
   ]
  },
  {
   "cell_type": "markdown",
   "metadata": {},
   "source": [
    "The cell below will save the time and vehicle inputs as text file named $\\textit{figure8.txt}$. To locate the file, change the end of your web directory to $\\textit{/notebooks/Course_1_Module_4/figure8.txt}$\n",
    "\n",
    "Once you are there, you can download the file and submit to the Coursera grader to complete this assessment."
   ]
  },
  {
   "cell_type": "code",
   "execution_count": null,
   "metadata": {},
   "outputs": [],
   "source": [
    "data = np.vstack([t_data, v_data, w_data]).T\n",
    "np.savetxt('figure8.txt', data, delimiter=', ')"
   ]
  },
  {
   "cell_type": "markdown",
   "metadata": {},
   "source": [
    "Congratulations! You have now completed the assessment! Feel free to test the bicycle model with different inputs in the cell below, and see what trajectories they form. For example, try moving in an equilateral triangle. You'll find that it's rather difficult to generate desired trajectories by pre-setting the inputs. The next module on vehicle control will show you an easier and more accurate method. See you there!"
   ]
  },
  {
   "cell_type": "code",
   "execution_count": null,
   "metadata": {},
   "outputs": [],
   "source": [
    "sample_time = 0.01\n",
    "time_end = 30\n",
    "model.reset()\n",
    "\n",
    "t_data = np.arange(0,time_end,sample_time)\n",
    "x_data = np.zeros_like(t_data)\n",
    "y_data = np.zeros_like(t_data)\n",
    "v_data = np.zeros_like(t_data)\n",
    "w_data = np.zeros_like(t_data)\n",
    "\n",
    "# ==================================\n",
    "#  Test various inputs here\n",
    "# ==================================\n",
    "for i in range(t_data.shape[0]):\n",
    "\n",
    "    model.step(v_data[i], w_data[i])\n",
    "    \n",
    "plt.axis('equal')\n",
    "plt.plot(x_data, y_data)\n",
    "plt.show()"
   ]
  }
 ],
 "metadata": {
  "kernelspec": {
   "display_name": "Python 3",
   "language": "python",
   "name": "python3"
  },
  "language_info": {
   "codemirror_mode": {
    "name": "ipython",
    "version": 3
   },
   "file_extension": ".py",
   "mimetype": "text/x-python",
   "name": "python",
   "nbconvert_exporter": "python",
   "pygments_lexer": "ipython3",
   "version": "3.7.6"
  }
 },
 "nbformat": 4,
 "nbformat_minor": 4
}
