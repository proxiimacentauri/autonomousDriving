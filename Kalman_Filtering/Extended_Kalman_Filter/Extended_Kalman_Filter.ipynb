{
 "cells": [
  {
   "cell_type": "markdown",
   "metadata": {},
   "source": [
    "## Extended Kalman Filter (EKF) to Localise Vehicle Position Based on LIDAR Data\n",
    "-----\n",
    "\n",
    "### GOAL\n",
    "\n",
    "Recursively estimate the position of a vehicle along a trajectory using available measurements and a motion model. \n",
    "\n",
    "### Assumptions\n",
    "\n",
    "1. The vehicle is equipped with a very simple type of LIDAR sensor, which returns:\n",
    "    - Range ($r$) \n",
    "    - Bearing Measurements ($\\phi$)\n",
    "    \n",
    "      Corresponding to individual landmarks in the environment. \n",
    "    \n",
    "2. The global positions of the landmarks are assumed to be known beforehand.\n",
    "\n",
    "3. We will also assume known data association, that is, which measurment belong to which landmark.\n",
    "\n",
    "### Motion Models\n",
    "---\n",
    "#### Inputs\n",
    "\n",
    "The vehicle motion model recieves the following inputs:\n",
    "\n",
    "1. Linear Velocity ($v$) \n",
    "\n",
    "2. Angular Velocity ($\\omega$)\n",
    "\n",
    "Which are odometry readings.\n",
    "\n",
    "#### Outputs \n",
    "\n",
    "The output is the 2-D pose of the vehicle $\\mathbf{x}_k = \\left[ x \\, y \\, \\theta \\right]^T$\n",
    "\n",
    "1. $\\mathbf{v}_k$ - Linear Velocity and $\\mathbf{\\omega}_k$ - Angular Velocity which we use as inputs to the model.\n",
    "2. $\\mathbf{w}_k$ - Process Noise which has zero mean, normal distribution with a constant covariance $\\mathbf{Q}$.\n",
    "\n",
    "\n",
    "\\begin{align}\n",
    "\\mathbf{x}_k =  f(x_{k-1} , u_{k-1} , w_{k-1}) \n",
    "\\end{align}\n",
    "\n",
    "\\begin{align}\n",
    "\\mathbf{x}_{k} &= \\mathbf{x}_{k-1} + T\n",
    "\\begin{bmatrix}\n",
    "\\cos\\theta_{k-1} &0 \\\\\n",
    "\\sin\\theta_{k-1} &0 \\\\\n",
    "0 &1\n",
    "\\end{bmatrix}\n",
    "\\left(\n",
    "\\begin{bmatrix}\n",
    "v_k \\\\\n",
    "\\omega_k\n",
    "\\end{bmatrix}\n",
    "+ \\mathbf{w}_k\n",
    "\\right)\n",
    "\\, , \\, \\, \\, \\, \\, \\mathbf{w}_k = \\mathcal{N}\\left(\\mathbf{0}, \\mathbf{Q}\\right)\n",
    "\\end{align}\n",
    "\n",
    "### Measurement Models\n",
    "---\n",
    "\n",
    "#### Inputs\n",
    "\n",
    "The LIDAR range and bearing measurements $\\mathbf{y}^l_k = \\left[r \\, \\phi \\right]^T$.\n",
    "\n",
    "1. ($x_k$,$y_k$) \\& $\\theta_{k}$ - Current Pose of the Vehicle.\n",
    "2. ($x_l$, $y_l$) - Ground Truth Co-ordinates of the landmark ($l$).\n",
    "3. $d$ - Distance between robot center and (LIDAR).\n",
    "4. $\\mathbf{n}^l_k$ - Measurement Noise with zero mean, normal distribution with a constant covariance $\\mathbf{R}$.\n",
    "\n",
    "\n",
    "\\begin{align}\n",
    "\\mathbf{y}^l_k =\n",
    "\\begin{bmatrix}\n",
    "\\sqrt{(x_l - x_k - d\\cos\\theta_{k})^2 + (y_l - y_k - d\\sin\\theta_{k})^2} \\\\\n",
    "atan2\\left(y_l - y_k - d\\sin\\theta_{k},x_l - x_k - d\\cos\\theta_{k}\\right) - \\theta_k\n",
    "\\end{bmatrix}\n",
    "+\n",
    "\\mathbf{n}^l_k\n",
    "\\, , \\, \\, \\, \\, \\, \\mathbf{n}^l_k = \\mathcal{N}\\left(\\mathbf{0}, \\mathbf{R}\\right)\n",
    "\\end{align}\n",
    "\n",
    "\n",
    "### EKF Algorithm\n",
    "-----\n",
    "\n",
    "Models above are Non-Linea we willl use EKF as the state estimator \n",
    "\n",
    "#### 1. Prediction Step\n",
    " \n",
    " - Using inputs and the motion model we produce: \n",
    "     - State Estimate at a given timestep.\n",
    "     - Covariance Estimate at a given timestep.\n",
    "     \n",
    "#### 2. Correction Step\n",
    "\n",
    "- Using the measurements provided by the LIDAR we will $correct$:\n",
    "    - Pose estimate\n",
    "    - Pose covariance estimate\n",
    "\n",
    "### LIDAR Data\n",
    "---\n",
    "\n",
    "The LIDAR data is store in the file \"data.pickle\" we will unpack the data and store it into variables as below."
   ]
  },
  {
   "cell_type": "code",
   "execution_count": 1,
   "metadata": {},
   "outputs": [],
   "source": [
    "import pickle\n",
    "import sympy as sp\n",
    "import numpy as np\n",
    "import matplotlib.pyplot as plt\n",
    "from numpy.linalg import inv\n",
    "from numpy import eye, matrix\n",
    "from sympy import symbols\n",
    "from sympy import Matrix\n",
    "\n",
    "with open('data/data.pickle', 'rb') as f:\n",
    "    data = pickle.load(f)\n",
    "\n",
    "t = data['t']  # timestamps [s]\n",
    "\n",
    "x_init  = data['x_init'] # initial x position [m]\n",
    "y_init  = data['y_init'] # initial y position [m]\n",
    "th_init = data['th_init'] # initial theta position [rad]\n",
    "\n",
    "# input signal\n",
    "v  = data['v']  # translational velocity input [m/s]\n",
    "om = data['om']  # rotational velocity input [rad/s]\n",
    "\n",
    "# bearing and range measurements, LIDAR constants\n",
    "bearing = data['b']  # bearing to each landmarks center in the frame attached to the laser [rad]\n",
    "ranging = data['r']  # range measurements [m]\n",
    "xyLand = data['l']  # x,y positions of landmarks [m]\n",
    "d = data['d']  # distance between robot center and laser rangefinder [m]"
   ]
  },
  {
   "cell_type": "code",
   "execution_count": 2,
   "metadata": {},
   "outputs": [
    {
     "name": "stdout",
     "output_type": "stream",
     "text": [
      "No. of Timestamps:  501\n",
      "No. of Linear Velo Measurements:  501\n",
      "No. of Angular Velo Measurements:  501\n",
      "No. of Bearing Measurements:  501\n",
      "No. of Range Measurements:  501\n",
      "No. of Landmark Measurements:  8\n",
      "Distance between Robot Center and LIDAR:  1\n"
     ]
    }
   ],
   "source": [
    "print('No. of Timestamps: ',t.shape[0])\n",
    "print('No. of Linear Velo Measurements: ',v.shape[0])\n",
    "print('No. of Angular Velo Measurements: ',om.shape[0])\n",
    "print('No. of Bearing Measurements: ',bearing.shape[0])\n",
    "print('No. of Range Measurements: ',ranging.shape[0])\n",
    "print('No. of Landmark Measurements: ',xyLand.shape[0])\n",
    "print('Distance between Robot Center and LIDAR: ',d.shape[0])"
   ]
  },
  {
   "cell_type": "markdown",
   "metadata": {},
   "source": [
    "### Ground Truth\n",
    "- Plot the ground truth position and orientation. \n",
    "- Orientation values are wrapped to the $\\left[-\\pi,\\pi\\right]$ range in radians.\n",
    "\n",
    "<table><tr>\n",
    "<td> <img src=\"data/gtruth.png\" alt=\"Ground Truth\" width=\"350\"/> </td>\n",
    "<td> <img src=\"data/gtruth2.png\" alt=\"Ground Truth\" width=\"350\"/> </td>\n",
    "</tr></table>"
   ]
  },
  {
   "cell_type": "markdown",
   "metadata": {},
   "source": [
    "## Initializing Parameters\n",
    "---\n",
    "\n",
    "- It is neccessary to tune the measurement noise variances `r_var`, `b_var` in order for the filter to perform well.\n",
    "- For the orientation estimates to coincide with the bearing measurements, it is also neccessary to wrap all estimated $\\theta$ values to the $(-\\pi , \\pi]$ range."
   ]
  },
  {
   "cell_type": "code",
   "execution_count": 3,
   "metadata": {},
   "outputs": [],
   "source": [
    "# Wraps angle to (-pi,pi] range\n",
    "def wraptopi(x):\n",
    "    if x > np.pi:\n",
    "        x = x - (np.floor(x / (2 * np.pi)) + 1) * 2 * np.pi\n",
    "    elif x < -np.pi:\n",
    "        x = x + (np.floor(x / (-2 * np.pi)) + 1) * 2 * np.pi\n",
    "    return x"
   ]
  },
  {
   "cell_type": "code",
   "execution_count": 4,
   "metadata": {},
   "outputs": [],
   "source": [
    "v_var = 0.01  # linear velocity variance  \n",
    "om_var = 0.01  # angular velocity variance \n",
    "r_var = 0.1  # range measurements variance\n",
    "b_var = 0.1  # bearing measurement variance\n",
    "\n",
    "Q_k = np.diag([v_var, om_var]) # input noise covariance \n",
    "Rk = np.diag([r_var, b_var])  # measurement noise covariance \n",
    "\n",
    "x_est = np.zeros([len(v), 3])  # estimated states, x, y, and theta\n",
    "P_est = np.zeros([len(v), 3, 3])  # state covariance matrices\n",
    "\n",
    "x_est[0] = np.array([x_init, y_init, th_init]) # initial state\n",
    "P_est[0] = np.diag([1, 1, 0.1]) # initial state covariance"
   ]
  },
  {
   "cell_type": "code",
   "execution_count": 5,
   "metadata": {},
   "outputs": [
    {
     "name": "stdout",
     "output_type": "stream",
     "text": [
      "Input Noise Co-Variance (W_k): \n",
      "\n",
      " [[0.01 0.  ]\n",
      " [0.   0.01]]\n",
      "\n",
      " Measurement Noise Co-Variance (R_k): \n",
      "\n",
      " [[0.1 0. ]\n",
      " [0.  0.1]]\n",
      "\n",
      " Initialised Estimated State Vector (x[0,] y[0], theta[0]) (501x3 - Matrix): \n",
      "\n",
      " [50.          0.          1.57079633]\n",
      "\n",
      " Initialised State Covariance (P_k) (3x3 - Matrix for every state) (We have total 501): \n",
      "\n",
      " [[1.  0.  0. ]\n",
      " [0.  1.  0. ]\n",
      " [0.  0.  0.1]]\n"
     ]
    }
   ],
   "source": [
    "print('Input Noise Co-Variance (W_k): \\n\\n',Q_k)\n",
    "print('\\n Measurement Noise Co-Variance (R_k): \\n\\n',Rk)\n",
    "print('\\n Initialised Estimated State Vector (x[0,] y[0], theta[0]) (501x3 - Matrix): \\n\\n',x_est[0])\n",
    "print('\\n Initialised State Covariance (P_k) (3x3 - Matrix for every state) (We have total 501): \\n\\n',P_est[0])"
   ]
  },
  {
   "cell_type": "markdown",
   "metadata": {},
   "source": [
    "## Correction Step\n",
    "-----\n",
    "The measurement update function, which takes:\n",
    "\n",
    "1. Takes available landmark measurement ($l$).\n",
    "2. Updates the current state estimate $\\mathbf{\\check{x}}_k$."
   ]
  },
  {
   "cell_type": "markdown",
   "metadata": {},
   "source": [
    "\n",
    "#### 1. Compute the measurement model Jacobians at   ($\\mathbf{\\check{x}}_{k}$)\n",
    "---\n",
    "\\begin{align}\n",
    "\\mathbf{y}^l_k = &\\mathbf{h}(\\mathbf{x}_{k}, \\mathbf{n}^l_k) \\\n",
    "\\, \n",
    "\\end{align}\n",
    "\n",
    "\n",
    "\\begin{align}\n",
    " \\\\\n",
    "\\mathbf{y}^l_k =\n",
    "\\begin{bmatrix}\n",
    "\\sqrt{(x_l - x_k - d\\cos\\theta_{k})^2 + (y_l - y_k - d\\sin\\theta_{k})^2} \\\\\n",
    "atan2\\left(y_l - y_k - d\\sin\\theta_{k},x_l - x_k - d\\cos\\theta_{k}\\right) - \\theta_k\n",
    "\\end{bmatrix}\n",
    "+\n",
    "\\mathbf{n}^l_k\n",
    "\\, , \\, \\, \\, \\, \\, \\mathbf{n}^l_k = \\mathcal{N}\\left(\\mathbf{0}, \\mathbf{R}\\right)\n",
    "\\end{align}\n",
    "\n",
    "\\begin{align}\n",
    " \\\\\n",
    "\\mathbf{H}_{k} = \\frac{\\partial \\mathbf{h}}{\\partial \\mathbf{x}_{k}}\\bigg|_{\\mathbf{\\check{x}}_{k},0}& \\, , \\, \\, \\, \\,\n",
    "\\mathbf{M}_{k} = \\frac{\\partial \\mathbf{h}}{\\partial \\mathbf{n}_{k}}\\bigg|_{\\mathbf{\\check{x}}_{k},0} \\, .\n",
    "\\end{align}\n"
   ]
  },
  {
   "cell_type": "code",
   "execution_count": 6,
   "metadata": {},
   "outputs": [],
   "source": [
    "x_k, y_k, theta_k, x_l, y_l, d, n_k = symbols('x_k, y_k, theta_k, x_l, y_l, d, n_k')\n",
    "x_curr, y_curr, theta_curr = symbols('x_curr, y_curr, theta_curr')\n",
    "v_k, omega_k, w_k = symbols('v_k, omega_k, w_k')\n",
    "x = (x_l - x_k - (d * sp.cos(theta_k)))\n",
    "y = (y_l - y_k - (d * sp.sin(theta_k)))\n",
    "h = Matrix([[sp.sqrt(x**2 + y**2)],\n",
    "            [sp.atan2(y, x) - theta_k]])\n",
    "f = Matrix([[sp.cos(theta_curr)],\n",
    "            [sp.sin(theta_curr)],\n",
    "            [0]])\n",
    "\n",
    "n = Matrix([[sp.cos(theta_curr)],\n",
    "            [sp.sin(theta_curr)],\n",
    "            [0]])"
   ]
  },
  {
   "cell_type": "markdown",
   "metadata": {},
   "source": [
    "---\n",
    "##### Linearised Meaurement Model Matrix ($\\mathbf{{H}}_{k}$)\n",
    "\\begin{align}\n",
    " \\\\\n",
    "\\mathbf{H}_{k} = \\frac{\\partial \\mathbf{h}}{\\partial \\mathbf{x}_{k}}\\bigg|_{\\mathbf{\\check{x}}_{k},0}& \\, , \\, \\, \\, \\,\n",
    "\\end{align}\n"
   ]
  },
  {
   "cell_type": "code",
   "execution_count": 7,
   "metadata": {},
   "outputs": [
    {
     "name": "stdout",
     "output_type": "stream",
     "text": [
      "Meaurement Model Matrix (h): \n"
     ]
    },
    {
     "data": {
      "text/latex": [
       "$\\displaystyle \\left[\\begin{matrix}\\sqrt{\\left(- d \\sin{\\left(\\theta_{k} \\right)} - y_{k} + y_{l}\\right)^{2} + \\left(- d \\cos{\\left(\\theta_{k} \\right)} - x_{k} + x_{l}\\right)^{2}}\\\\- \\theta_{k} + \\operatorname{atan_{2}}{\\left(- d \\sin{\\left(\\theta_{k} \\right)} - y_{k} + y_{l},- d \\cos{\\left(\\theta_{k} \\right)} - x_{k} + x_{l} \\right)}\\end{matrix}\\right]$"
      ],
      "text/plain": [
       "Matrix([\n",
       "[ sqrt((-d*sin(theta_k) - y_k + y_l)**2 + (-d*cos(theta_k) - x_k + x_l)**2)],\n",
       "[-theta_k + atan2(-d*sin(theta_k) - y_k + y_l, -d*cos(theta_k) - x_k + x_l)]])"
      ]
     },
     "execution_count": 7,
     "metadata": {},
     "output_type": "execute_result"
    }
   ],
   "source": [
    "print('Meaurement Model Matrix (h): ')\n",
    "h"
   ]
  },
  {
   "cell_type": "code",
   "execution_count": 8,
   "metadata": {},
   "outputs": [
    {
     "name": "stdout",
     "output_type": "stream",
     "text": [
      " Linearised Meaurement Model Matrix (H_k): \n"
     ]
    },
    {
     "data": {
      "text/latex": [
       "$\\displaystyle \\left[\\begin{matrix}\\frac{d \\cos{\\left(\\theta_{k} \\right)} + x_{k} - x_{l}}{\\sqrt{\\left(- d \\sin{\\left(\\theta_{k} \\right)} - y_{k} + y_{l}\\right)^{2} + \\left(- d \\cos{\\left(\\theta_{k} \\right)} - x_{k} + x_{l}\\right)^{2}}} & \\frac{d \\sin{\\left(\\theta_{k} \\right)} + y_{k} - y_{l}}{\\sqrt{\\left(- d \\sin{\\left(\\theta_{k} \\right)} - y_{k} + y_{l}\\right)^{2} + \\left(- d \\cos{\\left(\\theta_{k} \\right)} - x_{k} + x_{l}\\right)^{2}}} & \\frac{- d \\left(- d \\sin{\\left(\\theta_{k} \\right)} - y_{k} + y_{l}\\right) \\cos{\\left(\\theta_{k} \\right)} + d \\left(- d \\cos{\\left(\\theta_{k} \\right)} - x_{k} + x_{l}\\right) \\sin{\\left(\\theta_{k} \\right)}}{\\sqrt{\\left(- d \\sin{\\left(\\theta_{k} \\right)} - y_{k} + y_{l}\\right)^{2} + \\left(- d \\cos{\\left(\\theta_{k} \\right)} - x_{k} + x_{l}\\right)^{2}}}\\\\- \\frac{d \\sin{\\left(\\theta_{k} \\right)} + y_{k} - y_{l}}{\\left(- d \\sin{\\left(\\theta_{k} \\right)} - y_{k} + y_{l}\\right)^{2} + \\left(- d \\cos{\\left(\\theta_{k} \\right)} - x_{k} + x_{l}\\right)^{2}} & - \\frac{- d \\cos{\\left(\\theta_{k} \\right)} - x_{k} + x_{l}}{\\left(- d \\sin{\\left(\\theta_{k} \\right)} - y_{k} + y_{l}\\right)^{2} + \\left(- d \\cos{\\left(\\theta_{k} \\right)} - x_{k} + x_{l}\\right)^{2}} & \\frac{d \\left(d \\sin{\\left(\\theta_{k} \\right)} + y_{k} - y_{l}\\right) \\sin{\\left(\\theta_{k} \\right)}}{\\left(- d \\sin{\\left(\\theta_{k} \\right)} - y_{k} + y_{l}\\right)^{2} + \\left(- d \\cos{\\left(\\theta_{k} \\right)} - x_{k} + x_{l}\\right)^{2}} - \\frac{d \\left(- d \\cos{\\left(\\theta_{k} \\right)} - x_{k} + x_{l}\\right) \\cos{\\left(\\theta_{k} \\right)}}{\\left(- d \\sin{\\left(\\theta_{k} \\right)} - y_{k} + y_{l}\\right)^{2} + \\left(- d \\cos{\\left(\\theta_{k} \\right)} - x_{k} + x_{l}\\right)^{2}} - 1\\end{matrix}\\right]$"
      ],
      "text/plain": [
       "Matrix([\n",
       "[(d*cos(theta_k) + x_k - x_l)/sqrt((-d*sin(theta_k) - y_k + y_l)**2 + (-d*cos(theta_k) - x_k + x_l)**2), (d*sin(theta_k) + y_k - y_l)/sqrt((-d*sin(theta_k) - y_k + y_l)**2 + (-d*cos(theta_k) - x_k + x_l)**2),                                                                   (-d*(-d*sin(theta_k) - y_k + y_l)*cos(theta_k) + d*(-d*cos(theta_k) - x_k + x_l)*sin(theta_k))/sqrt((-d*sin(theta_k) - y_k + y_l)**2 + (-d*cos(theta_k) - x_k + x_l)**2)],\n",
       "[   -(d*sin(theta_k) + y_k - y_l)/((-d*sin(theta_k) - y_k + y_l)**2 + (-d*cos(theta_k) - x_k + x_l)**2),   -(-d*cos(theta_k) - x_k + x_l)/((-d*sin(theta_k) - y_k + y_l)**2 + (-d*cos(theta_k) - x_k + x_l)**2), d*(d*sin(theta_k) + y_k - y_l)*sin(theta_k)/((-d*sin(theta_k) - y_k + y_l)**2 + (-d*cos(theta_k) - x_k + x_l)**2) - d*(-d*cos(theta_k) - x_k + x_l)*cos(theta_k)/((-d*sin(theta_k) - y_k + y_l)**2 + (-d*cos(theta_k) - x_k + x_l)**2) - 1]])"
      ]
     },
     "execution_count": 8,
     "metadata": {},
     "output_type": "execute_result"
    }
   ],
   "source": [
    "print(' Linearised Meaurement Model Matrix (H_k): ')\n",
    "h.jacobian(Matrix([x_k, y_k, theta_k]))"
   ]
  },
  {
   "cell_type": "markdown",
   "metadata": {},
   "source": [
    "----\n",
    "##### Linearised Meaurement Model Noise Matrix ($\\mathbf{{M}}_{k}$)\n",
    "\\begin{align}\n",
    " \\\\\n",
    "\\mathbf{M}_{k} = \\frac{\\partial \\mathbf{h}}{\\partial \\mathbf{n}_{k}}\\bigg|_{\\mathbf{\\check{x}}_{k},0} \\, .\n",
    "\\end{align}\n"
   ]
  },
  {
   "cell_type": "code",
   "execution_count": 22,
   "metadata": {},
   "outputs": [
    {
     "data": {
      "text/latex": [
       "$\\displaystyle \\left[\\begin{matrix}1 & 0\\\\0 & 1\\end{matrix}\\right]$"
      ],
      "text/plain": [
       "Matrix([\n",
       "[1, 0],\n",
       "[0, 1]])"
      ]
     },
     "execution_count": 22,
     "metadata": {},
     "output_type": "execute_result"
    }
   ],
   "source": [
    "# This matrix usually has a value = 1 because in general M_k doesnt exist in the formula to caluclate the Kalman Gain\n",
    "# But in this course they added. In my opinion dh/dn_k is also incorrect. \n",
    "M_k = Matrix([[1,0],\n",
    "            [0,1]])\n",
    "M_k"
   ]
  },
  {
   "cell_type": "markdown",
   "metadata": {},
   "source": [
    "#### 2. Compute the Kalman Gain\n",
    "---\n",
    "\\begin{align}\n",
    "\\mathbf{K}_k &= \\mathbf{\\check{P}}_k \\mathbf{H}_k^T \\left(\\mathbf{H}_k \\mathbf{\\check{P}}_k \\mathbf{H}_k^T + \\mathbf{M}_k \\mathbf{R}_k \\mathbf{M}_k^T \\right)^{-1} \n",
    "\\end{align}"
   ]
  },
  {
   "cell_type": "markdown",
   "metadata": {},
   "source": [
    "----\n",
    "##### Noise Co-Variance Matrix ($\\mathbf{{R}}_{k}$)\n",
    "\n",
    "\\begin{align}\n",
    " \\\\\n",
    "\\mathbf{R}_k =\n",
    "\\begin{bmatrix}\n",
    "{\\sigma^2_{Range} \\,\\,\\,\\,\\    \\,\\,\\,\\,\\,\\,\\,\\,\\,\\,\\ 0} \\\\\n",
    " 0 \\,\\,\\,\\,\\,\\,\\,\\,\\,\\  \\sigma^2_{Bearing}\n",
    "\\end{bmatrix}\n",
    "\\\\\n",
    "\\end{align}\n",
    "\n"
   ]
  },
  {
   "cell_type": "code",
   "execution_count": 10,
   "metadata": {},
   "outputs": [
    {
     "data": {
      "text/latex": [
       "$\\displaystyle \\left[\\begin{matrix}0.1 & 0\\\\0 & 0.1\\end{matrix}\\right]$"
      ],
      "text/plain": [
       "Matrix([\n",
       "[0.1,   0],\n",
       "[  0, 0.1]])"
      ]
     },
     "execution_count": 10,
     "metadata": {},
     "output_type": "execute_result"
    }
   ],
   "source": [
    "R_k = Matrix([[r_var, 0],\n",
    "              [  0  , b_var]])\n",
    "R_k"
   ]
  },
  {
   "cell_type": "markdown",
   "metadata": {},
   "source": [
    "#### 3. Correct the Predicted State\n",
    "---\n",
    "##### The correction will take place when we make a measurement.\n",
    "- We use the measurement model to find what we will measure ($\\mathbf{y}^l_k$)\n",
    "\n",
    "\\begin{align}\n",
    " \\\\\n",
    "\\mathbf{y}^l_k =\n",
    "\\begin{bmatrix}\n",
    "\\sqrt{(x_l - x_k - d\\cos\\theta_{k})^2 + (y_l - y_k - d\\sin\\theta_{k})^2} \\\\\n",
    "atan2\\left(y_l - y_k - d\\sin\\theta_{k},x_l - x_k - d\\cos\\theta_{k}\\right) - \\theta_k\n",
    "\\end{bmatrix}\n",
    "+\n",
    "\\mathbf{n}^l_k\n",
    "\\, , \\, \\, \\, \\, \\, \\mathbf{n}^l_k = \\mathcal{N}\\left(\\mathbf{0}, \\mathbf{R}\\right)\n",
    "\\end{align}\n",
    "\n",
    "- We actually take the measurement ($\\mathbf{\\check{y}}^l_k$)\n",
    "\n",
    "\\begin{align}\n",
    " \\\n",
    "\\mathbf{\\check{y}}^l_k =\n",
    "\\begin{bmatrix}\n",
    "Ranging \\\\\n",
    "Bearing\n",
    "\\end{bmatrix}\n",
    "\\\n",
    "\\end{align}\n",
    "\n",
    "- Then we compute the corrected state vector ($\\mathbf{\\hat{x}}_k$)\n",
    "\\begin{align}\n",
    "\\mathbf{\\hat{x}}_k &= \\mathbf{\\check{x}}_k + \\mathbf{K}_k \\left(\\mathbf{y}^l_k - \\mathbf{\\check{y}}^l_k\\right)\n",
    "\\end{align}\n"
   ]
  },
  {
   "cell_type": "markdown",
   "metadata": {},
   "source": [
    "#### 4. Correct the Co-Variance ($\\mathbf{{P}}_{k}$) of State Vector ($\\mathbf{{x}}_{k}$) after the Correction\n",
    "---\n",
    "\\begin{align}\n",
    "\\mathbf{\\hat{P}}_k &= \\left(\\mathbf{I} - \\mathbf{K}_k \\mathbf{H}_k \\right)\\mathbf{\\check{P}}_k\n",
    "\\end{align}\n",
    "\n",
    "- Here I = 3x3 Identity Matrix"
   ]
  },
  {
   "cell_type": "code",
   "execution_count": 11,
   "metadata": {},
   "outputs": [],
   "source": [
    "def measurement_update(xyLand, ranging, bearing, P_check, x_check):\n",
    "    \n",
    "    \"\"\" 1. Compute measurement Jacobian \"\"\"\n",
    "    \n",
    "    # Values from the State Vector (x_k)\n",
    "    x_k = x_check[0]\n",
    "    y_k = x_check[1]\n",
    "    th_k = wraptopi(x_check[2])\n",
    "    \n",
    "    # Values from the Measurement Vector (y_k)\n",
    "    x_l = xyLand[0]\n",
    "    y_l = xyLand[1]\n",
    "    d = 0\n",
    "        \n",
    "    ### Linearised Meaurement Model Matrix (H_k) ###\n",
    "    a = x_l - x_k - (d * np.cos(th_k)) \n",
    "    b = - x_l + x_k + (d * np.cos(th_k))\n",
    "    c = y_l - y_k - (d * np.sin(th_k)) \n",
    "    e = - y_l + y_k + (d * np.sin(th_k)) \n",
    "    DEN = (a**2 + c**2)\n",
    "    \n",
    "    H_k = np.zeros((2,3))\n",
    "    \n",
    "    H_k[0,0] = b/np.sqrt(DEN)\n",
    "    H_k[0,1] = e/np.sqrt(DEN)\n",
    "    H_k[0,2] = ((-d*np.cos(th_k)*c)+(d*np.sin(th_k)*a))/np.sqrt(DEN)\n",
    "    H_k[1,0] = (-e)/DEN\n",
    "    H_k[1,1] = (-a)/DEN\n",
    "    H_k[1,2] = ((d*np.sin(th_k)*e)-(d*np.cos(th_k)*a))/DEN\n",
    "    \n",
    "       \n",
    "    M_k = np.identity(2)\n",
    "    \n",
    "    \"\"\"\" 2. Compute Kalman Gain \"\"\"\n",
    "    \n",
    "    # Noise Co-Variance Matrix (R_k) - Is defined above\n",
    "    \n",
    "    K_k = P_check.dot(H_k.T).dot(inv(H_k.dot(P_check).dot(H_k.T) + M_k.dot(Rk).dot(M_k.T)))\n",
    "\n",
    "    \"\"\" 3. Correct Predicted State (Wrap Angles to [-pi,pi]) \"\"\"\n",
    "    \n",
    "    # We will use the actual Non-Linear Measurment Model\n",
    "    Y_k = np.zeros((2,1))\n",
    "    \n",
    "    Y_k[0,0] = np.sqrt(DEN)\n",
    "    Y_k[1,0] = wraptopi(np.arctan2(c,a) - th_k)\n",
    "    \n",
    "    \n",
    "    # Measusing Values (Correction will take place when we make a measurement)\n",
    "    Y_Measured = np.zeros((2,1))\n",
    "    \n",
    "    Y_Measured[0,0] = ranging\n",
    "    Y_Measured[1,0] = wraptopi(bearing)\n",
    "    \n",
    "    # Correction to the State Vector\n",
    "    x_check = x_check + K_k.dot(Y_Measured - Y_k)\n",
    "    # Limiting theta\n",
    "    x_check[2] = wraptopi(x_check[2])\n",
    "        \n",
    "    \"\"\" 4. Correct covariance  \"\"\"\n",
    "    \n",
    "    P_check = (np.identity(3) - K_k.dot(H_k)).dot(P_check)\n",
    "    \n",
    "    \n",
    "    return x_check, P_check\n"
   ]
  },
  {
   "cell_type": "markdown",
   "metadata": {},
   "source": [
    "## Prediction Step\n",
    "-----\n",
    "Now, implement the main filter loop, defining the prediction step of the EKF using the motion model provided:\n",
    "\n",
    "\\begin{align}\n",
    "\\mathbf{\\check{x}}_k &= \\mathbf{f}\\left(\\mathbf{\\hat{x}}_{k-1}, \\mathbf{u}_{k-1}, \\mathbf{0} \\right) \\\\\n",
    "\\mathbf{\\check{P}}_k &= (\\mathbf{F}_{k-1}\\mathbf{\\hat{P}}_{k-1}\\mathbf{F}_{k-1}^T + \\mathbf{L}_{k-1}\\mathbf{Q}_{k-1}\\mathbf{L}_{k-1}^T) \\, .\n",
    "\\end{align}\n",
    "\n",
    "Where\n",
    "\n",
    "\\begin{align}\n",
    "\\mathbf{F}_{k-1} = \\frac{\\partial \\mathbf{f}}{\\partial \\mathbf{x}_{k-1}}\\bigg|_{\\mathbf{\\hat{x}}_{k-1},\\mathbf{u}_{k},0}  \\, , \\, \\, \\, \\,\n",
    "\\mathbf{L}_{k-1} = \\frac{\\partial \\mathbf{f}}{\\partial \\mathbf{u}_{k}}\\bigg|_{\\mathbf{\\hat{x}}_{k-1},\\mathbf{u}_{k},0} \\, .\n",
    "\\end{align}"
   ]
  },
  {
   "cell_type": "code",
   "execution_count": 12,
   "metadata": {},
   "outputs": [
    {
     "name": "stdout",
     "output_type": "stream",
     "text": [
      "Meaurement Motion Matrix (f): \n"
     ]
    },
    {
     "data": {
      "text/latex": [
       "$\\displaystyle \\left[\\begin{matrix}T v_{k} \\cos{\\left(\\theta_{curr} \\right)} + x_{curr}\\\\T v_{k} \\sin{\\left(\\theta_{curr} \\right)} + y_{curr}\\\\T \\omega_{k} + \\theta_{curr}\\end{matrix}\\right]$"
      ],
      "text/plain": [
       "Matrix([\n",
       "[T*v_k*cos(theta_curr) + x_curr],\n",
       "[T*v_k*sin(theta_curr) + y_curr],\n",
       "[        T*omega_k + theta_curr]])"
      ]
     },
     "execution_count": 12,
     "metadata": {},
     "output_type": "execute_result"
    }
   ],
   "source": [
    "x_k, y_k, theta_k, x_l, y_l, d, n_k = symbols('x_k, y_k, theta_k, x_l, y_l, d, n_k')\n",
    "x_curr, y_curr, theta_curr = symbols('x_curr, y_curr, theta_curr')\n",
    "v_k, omega_k, w_k, T = symbols('v_k, omega_k, w_k, T')\n",
    "f = Matrix([[x_curr + T*(v_k)*sp.cos(theta_curr)],\n",
    "            [y_curr + T*(v_k)*sp.sin(theta_curr)],\n",
    "            [theta_curr + T*(omega_k)]])\n",
    "print('Meaurement Motion Matrix (f): ')\n",
    "f"
   ]
  },
  {
   "cell_type": "markdown",
   "metadata": {},
   "source": [
    "---\n",
    "##### Linearised Motion Model Matrix ($\\mathbf{{F}}_{k}$)\n",
    "\\begin{align}\n",
    " \\\\\n",
    "\\mathbf{F}_{k-1} = \\frac{\\partial \\mathbf{f}}{\\partial \\mathbf{x}_{k-1}}\\bigg|_{\\mathbf{\\hat{x}}_{k-1},\\mathbf{u}_{k},0}  \\, , \\, \\, \\, \\,\n",
    "\\end{align}\n"
   ]
  },
  {
   "cell_type": "code",
   "execution_count": 13,
   "metadata": {},
   "outputs": [
    {
     "name": "stdout",
     "output_type": "stream",
     "text": [
      " Linearised Motion Model Matrix (F_k) with w_k = 0: \n"
     ]
    },
    {
     "data": {
      "text/latex": [
       "$\\displaystyle \\left[\\begin{matrix}1 & 0 & - T v_{k} \\sin{\\left(\\theta_{curr} \\right)}\\\\0 & 1 & T v_{k} \\cos{\\left(\\theta_{curr} \\right)}\\\\0 & 0 & 1\\end{matrix}\\right]$"
      ],
      "text/plain": [
       "Matrix([\n",
       "[1, 0, -T*v_k*sin(theta_curr)],\n",
       "[0, 1,  T*v_k*cos(theta_curr)],\n",
       "[0, 0,                      1]])"
      ]
     },
     "execution_count": 13,
     "metadata": {},
     "output_type": "execute_result"
    }
   ],
   "source": [
    "print(' Linearised Motion Model Matrix (F_k) with w_k = 0: ')\n",
    "f.jacobian(Matrix([x_curr, y_curr, theta_curr]))"
   ]
  },
  {
   "cell_type": "markdown",
   "metadata": {},
   "source": [
    "----\n",
    "##### Linearised Motion Model Noise Matrix ($\\mathbf{{L}}_{k}$) \n",
    "\n",
    "##### Here ($\\partial \\mathbf{f}$) is diffrenciated with respect to ($\\mathbf{u}_{k}$) which is the input vector. The the given example it is incorrect.\n",
    "\\begin{align}\n",
    " \\\\\n",
    "\\mathbf{L}_{k-1} = \\frac{\\partial \\mathbf{f}}{\\partial \\mathbf{u}_{k}}\\bigg|_{\\mathbf{\\hat{x}}_{k-1},\\mathbf{u}_{k},0} \\, .\n",
    "\\end{align}\n"
   ]
  },
  {
   "cell_type": "code",
   "execution_count": 14,
   "metadata": {},
   "outputs": [
    {
     "name": "stdout",
     "output_type": "stream",
     "text": [
      " Linearised Motion Model Noise Matrix (L_k) with w_k = 0: \n"
     ]
    },
    {
     "data": {
      "text/latex": [
       "$\\displaystyle \\left[\\begin{matrix}T \\cos{\\left(\\theta_{curr} \\right)} & 0\\\\T \\sin{\\left(\\theta_{curr} \\right)} & 0\\\\0 & T\\end{matrix}\\right]$"
      ],
      "text/plain": [
       "Matrix([\n",
       "[T*cos(theta_curr), 0],\n",
       "[T*sin(theta_curr), 0],\n",
       "[                0, T]])"
      ]
     },
     "execution_count": 14,
     "metadata": {},
     "output_type": "execute_result"
    }
   ],
   "source": [
    "print(' Linearised Motion Model Noise Matrix (L_k) with w_k = 0: ')\n",
    "f.jacobian(Matrix([v_k,omega_k]))"
   ]
  },
  {
   "cell_type": "code",
   "execution_count": 15,
   "metadata": {},
   "outputs": [],
   "source": [
    "                \"\"\"############### Main Filter Loop ###############\"\"\"\n",
    "    \n",
    "P_check  = P_est[0]\n",
    "x_check  = x_est[0, :].reshape(3,1)\n",
    "\n",
    "\n",
    "for k in range(1, len(t)):  # start at 1 because we've set the initial prediciton\n",
    "\n",
    "    T = t[k] - t[k - 1]  # time step (difference between timestamps)\n",
    "    x_prev = x_check[0]\n",
    "    y_prev = x_check[1]\n",
    "    th_prev = wraptopi(x_check[2])\n",
    "    \n",
    "    \"\"\" 1. Update State with Odometry Readings (Wrap Angles [-pi,pi])\"\"\"\n",
    "    # x_k = f(x_prev, u_prev,0)\n",
    "       \n",
    "    f = np.array([[np.cos(th_prev), 0],\n",
    "                  [np.sin(th_prev), 0],\n",
    "                  [0, 1]], dtype='float') \n",
    "   \n",
    "    Input_Val = np.zeros((2,1))\n",
    "    Input_Val[0,0] = v[k-1]\n",
    "    Input_Val[1,0] = om[k-1]\n",
    "    \n",
    "    x_check = x_check + f.dot(Input_Val).dot(T)\n",
    "    x_check[2] = wraptopi(x_check[2])\n",
    "    \n",
    "    \"\"\" 2. Motion Model Jacobian w.r.t (Previous State Vector - x_prev) \"\"\"\n",
    "    # Linearised Motion Model (F_k)\n",
    "                  \n",
    "    F_k = np.zeros([3, 3])\n",
    "    \n",
    "    F_k = np.array([[1, 0, -np.sin(th_prev) * T * v[k-1]],\n",
    "                    [0, 1,  np.cos(th_prev) * T * v[k-1]],\n",
    "                    [0, 0,  T]], dtype='float')\n",
    "\n",
    "    \"\"\" 3. Motion Model Jacobian w.r.t (Previous Input Vector - u_prev) \"\"\"\n",
    "    L_k = np.zeros([3, 2])\n",
    "    \n",
    "    L_k = np.array([[T * np.cos(th_prev), 0], \n",
    "                    [T * np.sin(th_prev), 0],\n",
    "                    [0,T]], dtype='float')\n",
    "\n",
    "    \"\"\" 4. Updating the State Co-Variance/Uncertianty (P_k) \"\"\"\n",
    "    \n",
    "    P_check  = F_k.dot(P_check.dot(F_k.T)) + L_k.dot(Q_k.dot(L_k.T))\n",
    "                  \n",
    "\n",
    "    # 5. Update state estimate using available landmark measurements\n",
    "    for i in range(len(ranging[k])):\n",
    "        x_check, P_check  = measurement_update(xyLand[i], ranging[k, i], bearing[k, i], P_check , x_check)\n",
    "\n",
    "    # Set final state predictions for timestep\n",
    "    x_est[k, 0] = x_check[0]\n",
    "    x_est[k, 1] = x_check[1]\n",
    "    x_est[k, 2] = x_check[2]\n",
    "    P_est[k, :, :] = P_check"
   ]
  },
  {
   "cell_type": "markdown",
   "metadata": {},
   "source": [
    "Let's plot the resulting state estimates:"
   ]
  },
  {
   "cell_type": "code",
   "execution_count": 16,
   "metadata": {},
   "outputs": [
    {
     "data": {
      "image/png": "[encoded data removed]",
      "text/plain": [
       "<Figure size 432x288 with 1 Axes>"
      ]
     },
     "metadata": {
      "needs_background": "light"
     },
     "output_type": "display_data"
    },
    {
     "data": {
      "image/png": "[encoded data removed]",
      "text/plain": [
       "<Figure size 432x288 with 1 Axes>"
      ]
     },
     "metadata": {
      "needs_background": "light"
     },
     "output_type": "display_data"
    }
   ],
   "source": [
    "e_fig = plt.figure()\n",
    "ax = e_fig.add_subplot(111)\n",
    "ax.plot(x_est[:, 0], x_est[:, 1])\n",
    "ax.set_xlabel('x [m]')\n",
    "ax.set_ylabel('y [m]')\n",
    "ax.set_title('Estimated trajectory')\n",
    "plt.show()\n",
    "\n",
    "e_fig = plt.figure()\n",
    "ax = e_fig.add_subplot(111)\n",
    "ax.plot(t[:], x_est[:, 2])\n",
    "ax.set_xlabel('Time [s]')\n",
    "ax.set_ylabel('theta [rad]')\n",
    "ax.set_title('Estimated trajectory')\n",
    "plt.show()"
   ]
  }
 ],
 "metadata": {
  "kernelspec": {
   "display_name": "Python 3",
   "language": "python",
   "name": "python3"
  },
  "language_info": {
   "codemirror_mode": {
    "name": "ipython",
    "version": 3
   },
   "file_extension": ".py",
   "mimetype": "text/x-python",
   "name": "python",
   "nbconvert_exporter": "python",
   "pygments_lexer": "ipython3",
   "version": "3.7.6"
  }
 },
 "nbformat": 4,
 "nbformat_minor": 4
}
